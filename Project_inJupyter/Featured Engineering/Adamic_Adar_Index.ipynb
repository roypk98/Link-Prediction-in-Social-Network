{
 "cells": [
  {
   "cell_type": "markdown",
   "metadata": {},
   "source": [
    "# DO RUN"
   ]
  },
  {
   "cell_type": "code",
   "execution_count": 1,
   "metadata": {},
   "outputs": [],
   "source": [
    "#imp libraries\n",
    "import pandas as pd\n",
    "import networkx as nx\n",
    "import numpy as np\n",
    "import math"
   ]
  },
  {
   "cell_type": "code",
   "execution_count": 2,
   "metadata": {},
   "outputs": [],
   "source": [
    "#defined function for the algorithm to be applied\n",
    "def adamic_adar(G,feat,ledge):\n",
    "    #adding column for thr algorithm value to store for every edge initialised as 0.0\n",
    "    feat['Adamic_Adar']=0.0\n",
    "    #running for all edges in missing edges\n",
    "    for i in feat.index.values:\n",
    "        #checking for the presence of node in the graph of linked edges\n",
    "        if(G.has_node(feat['Node_1'][i]) and G.has_node(feat['Node_2'][i])):\n",
    "            try:\n",
    "                values=nx.adamic_adar_index(G,[(feat['Node_1'][i],feat['Node_2'][i])])\n",
    "                for v in values:\n",
    "                    feat['Adamic_Adar'][i]=v[2]\n",
    "            except ZeroDivisionError:#to avoid zero division error\n",
    "                continue"
   ]
  },
  {
   "cell_type": "code",
   "execution_count": 3,
   "metadata": {},
   "outputs": [
    {
     "name": "stderr",
     "output_type": "stream",
     "text": [
      "C:\\Users\\Hp\\anaconda3\\lib\\site-packages\\ipykernel_launcher.py:8: SettingWithCopyWarning: \n",
      "A value is trying to be set on a copy of a slice from a DataFrame\n",
      "\n",
      "See the caveats in the documentation: https://pandas.pydata.org/pandas-docs/stable/user_guide/indexing.html#returning-a-view-versus-a-copy\n",
      "  \n"
     ]
    }
   ],
   "source": [
    "#applied algorithm on features(changed name for missing edges) and created graph of linked edges\n",
    "#same for In[3] to In[7]\n",
    "f_feat=pd.read_csv('FB/FB_Features.csv')\n",
    "f_ledge=pd.read_csv('FB/FB_LinkedEdges.csv')\n",
    "G_f=nx.from_pandas_edgelist(f_ledge,'Node_1','Node_2')\n",
    "adamic_adar(G_f, f_feat, f_ledge)"
   ]
  },
  {
   "cell_type": "code",
   "execution_count": 4,
   "metadata": {},
   "outputs": [
    {
     "name": "stderr",
     "output_type": "stream",
     "text": [
      "C:\\Users\\Hp\\anaconda3\\lib\\site-packages\\ipykernel_launcher.py:8: SettingWithCopyWarning: \n",
      "A value is trying to be set on a copy of a slice from a DataFrame\n",
      "\n",
      "See the caveats in the documentation: https://pandas.pydata.org/pandas-docs/stable/user_guide/indexing.html#returning-a-view-versus-a-copy\n",
      "  \n"
     ]
    }
   ],
   "source": [
    "ff_feat=pd.read_csv('FB_Food/FBF_Features.csv')\n",
    "ff_ledge=pd.read_csv('FB_Food/FBF_LinkedEdges.csv')\n",
    "G_ff=nx.from_pandas_edgelist(ff_ledge,'Node_1','Node_2')\n",
    "adamic_adar(G_ff, ff_feat, ff_ledge)"
   ]
  },
  {
   "cell_type": "code",
   "execution_count": 5,
   "metadata": {},
   "outputs": [
    {
     "name": "stderr",
     "output_type": "stream",
     "text": [
      "C:\\Users\\Hp\\anaconda3\\lib\\site-packages\\ipykernel_launcher.py:8: SettingWithCopyWarning: \n",
      "A value is trying to be set on a copy of a slice from a DataFrame\n",
      "\n",
      "See the caveats in the documentation: https://pandas.pydata.org/pandas-docs/stable/user_guide/indexing.html#returning-a-view-versus-a-copy\n",
      "  \n"
     ]
    }
   ],
   "source": [
    "fs_feat=pd.read_csv('FB_Sport/FBS_Features.csv')\n",
    "fs_ledge=pd.read_csv('FB_Sport/FBS_LinkedEdges.csv')\n",
    "G_fs=nx.from_pandas_edgelist(fs_ledge,'Node_1','Node_2')\n",
    "adamic_adar(G_fs, fs_feat, fs_ledge)"
   ]
  },
  {
   "cell_type": "code",
   "execution_count": 6,
   "metadata": {},
   "outputs": [
    {
     "name": "stderr",
     "output_type": "stream",
     "text": [
      "C:\\Users\\Hp\\anaconda3\\lib\\site-packages\\ipykernel_launcher.py:8: SettingWithCopyWarning: \n",
      "A value is trying to be set on a copy of a slice from a DataFrame\n",
      "\n",
      "See the caveats in the documentation: https://pandas.pydata.org/pandas-docs/stable/user_guide/indexing.html#returning-a-view-versus-a-copy\n",
      "  \n"
     ]
    }
   ],
   "source": [
    "h_feat=pd.read_csv('Ham/Ham_Features.csv')\n",
    "h_ledge=pd.read_csv('Ham/Ham_LinkedEdges.csv')\n",
    "G_h=nx.from_pandas_edgelist(h_ledge,'Node_1','Node_2')\n",
    "adamic_adar(G_h, h_feat, h_ledge)"
   ]
  },
  {
   "cell_type": "code",
   "execution_count": 7,
   "metadata": {},
   "outputs": [
    {
     "name": "stderr",
     "output_type": "stream",
     "text": [
      "C:\\Users\\Hp\\anaconda3\\lib\\site-packages\\ipykernel_launcher.py:8: SettingWithCopyWarning: \n",
      "A value is trying to be set on a copy of a slice from a DataFrame\n",
      "\n",
      "See the caveats in the documentation: https://pandas.pydata.org/pandas-docs/stable/user_guide/indexing.html#returning-a-view-versus-a-copy\n",
      "  \n"
     ]
    }
   ],
   "source": [
    "v_feat=pd.read_csv('Vote/Vote_Features.csv')\n",
    "v_ledge=pd.read_csv('Vote/Vote_LinkedEdges.csv')\n",
    "G_v=nx.from_pandas_edgelist(v_ledge,'Node_1','Node_2')\n",
    "adamic_adar(G_v, v_feat, v_ledge)"
   ]
  },
  {
   "cell_type": "code",
   "execution_count": 8,
   "metadata": {},
   "outputs": [],
   "source": [
    "#converted to .csv file to make changes permanent\n",
    "#same for In[8] to In[12]\n",
    "f_feat.to_csv(r'FB/FB_Features.csv',index=False)"
   ]
  },
  {
   "cell_type": "code",
   "execution_count": 9,
   "metadata": {},
   "outputs": [],
   "source": [
    "ff_feat.to_csv(r'FB_Food/FBF_Features.csv',index=False)"
   ]
  },
  {
   "cell_type": "code",
   "execution_count": 10,
   "metadata": {},
   "outputs": [],
   "source": [
    "fs_feat.to_csv(r'FB_Sport/FBS_Features.csv',index=False)"
   ]
  },
  {
   "cell_type": "code",
   "execution_count": 11,
   "metadata": {},
   "outputs": [],
   "source": [
    "h_feat.to_csv(r'Ham/Ham_Features.csv',index=False)"
   ]
  },
  {
   "cell_type": "code",
   "execution_count": 12,
   "metadata": {},
   "outputs": [],
   "source": [
    "v_feat.to_csv(r'Vote/Vote_Features.csv',index=False)"
   ]
  }
 ],
 "metadata": {
  "kernelspec": {
   "display_name": "Python 3",
   "language": "python",
   "name": "python3"
  },
  "language_info": {
   "codemirror_mode": {
    "name": "ipython",
    "version": 3
   },
   "file_extension": ".py",
   "mimetype": "text/x-python",
   "name": "python",
   "nbconvert_exporter": "python",
   "pygments_lexer": "ipython3",
   "version": "3.7.6"
  }
 },
 "nbformat": 4,
 "nbformat_minor": 4
}
