{
 "cells": [
  {
   "cell_type": "code",
   "execution_count": 1,
   "metadata": {},
   "outputs": [],
   "source": [
    "#SAME AS DONE IN \"Adamic_Adar_Index\"\n",
    "import pandas as pd\n",
    "import networkx as nx\n",
    "import numpy as np\n",
    "import math"
   ]
  },
  {
   "cell_type": "code",
   "execution_count": 2,
   "metadata": {},
   "outputs": [],
   "source": [
    "def common_neighbour(G,feat,ledge):\n",
    "    feat['C_Neighbour']=0\n",
    "    for i in feat.index.values:\n",
    "        if(G.has_node(feat['Node_1'][i]) and G.has_node(feat['Node_2'][i])):\n",
    "            values=sorted(nx.common_neighbors(G, feat['Node_1'][i], feat['Node_2'][i]))\n",
    "            feat['C_Neighbour'][i]=len(values)"
   ]
  },
  {
   "cell_type": "code",
   "execution_count": 3,
   "metadata": {},
   "outputs": [],
   "source": [
    "f_feat=pd.read_csv('FB/FB_Features.csv')\n",
    "f_ledge=pd.read_csv('FB/FB_LinkedEdges.csv')\n",
    "G_f=nx.from_pandas_edgelist(f_ledge,'Node_1','Node_2')\n",
    "common_neighbour(G_f, f_feat, f_ledge)"
   ]
  },
  {
   "cell_type": "code",
   "execution_count": 4,
   "metadata": {},
   "outputs": [],
   "source": [
    "ff_feat=pd.read_csv('FB_Food/FBF_Features.csv')\n",
    "ff_ledge=pd.read_csv('FB_Food/FBF_LinkedEdges.csv')\n",
    "G_ff=nx.from_pandas_edgelist(ff_ledge,'Node_1','Node_2')\n",
    "common_neighbour(G_ff, ff_feat, ff_ledge)"
   ]
  },
  {
   "cell_type": "code",
   "execution_count": 5,
   "metadata": {},
   "outputs": [],
   "source": [
    "fs_feat=pd.read_csv('FB_Sport/FBS_Features.csv')\n",
    "fs_ledge=pd.read_csv('FB_Sport/FBS_LinkedEdges.csv')\n",
    "G_fs=nx.from_pandas_edgelist(fs_ledge,'Node_1','Node_2')\n",
    "common_neighbour(G_fs, fs_feat, fs_ledge)"
   ]
  },
  {
   "cell_type": "code",
   "execution_count": 6,
   "metadata": {},
   "outputs": [],
   "source": [
    "h_feat=pd.read_csv('Ham/Ham_Features.csv')\n",
    "h_ledge=pd.read_csv('Ham/Ham_LinkedEdges.csv')\n",
    "G_h=nx.from_pandas_edgelist(h_ledge,'Node_1','Node_2')\n",
    "common_neighbour(G_h, h_feat, h_ledge)"
   ]
  },
  {
   "cell_type": "code",
   "execution_count": 7,
   "metadata": {},
   "outputs": [],
   "source": [
    "v_feat=pd.read_csv('Vote/Vote_Features.csv')\n",
    "v_ledge=pd.read_csv('Vote/Vote_LinkedEdges.csv')\n",
    "G_v=nx.from_pandas_edgelist(v_ledge,'Node_1','Node_2')\n",
    "common_neighbour(G_v, v_feat, v_ledge)"
   ]
  },
  {
   "cell_type": "code",
   "execution_count": 8,
   "metadata": {},
   "outputs": [],
   "source": [
    "f_feat.to_csv(r'FB/FB_Features.csv',index=False)"
   ]
  },
  {
   "cell_type": "code",
   "execution_count": 9,
   "metadata": {},
   "outputs": [],
   "source": [
    "ff_feat.to_csv(r'FB_Food/FBF_Features.csv',index=False)"
   ]
  },
  {
   "cell_type": "code",
   "execution_count": 10,
   "metadata": {},
   "outputs": [],
   "source": [
    "fs_feat.to_csv(r'FB_Sport/FBS_Features.csv',index=False)"
   ]
  },
  {
   "cell_type": "code",
   "execution_count": 11,
   "metadata": {},
   "outputs": [],
   "source": [
    "h_feat.to_csv(r'Ham/Ham_Features.csv',index=False)"
   ]
  },
  {
   "cell_type": "code",
   "execution_count": 12,
   "metadata": {},
   "outputs": [],
   "source": [
    "v_feat.to_csv(r'Vote/Vote_Features.csv',index=False)"
   ]
  }
 ],
 "metadata": {
  "kernelspec": {
   "display_name": "Python 3",
   "language": "python",
   "name": "python3"
  },
  "language_info": {
   "codemirror_mode": {
    "name": "ipython",
    "version": 3
   },
   "file_extension": ".py",
   "mimetype": "text/x-python",
   "name": "python",
   "nbconvert_exporter": "python",
   "pygments_lexer": "ipython3",
   "version": "3.7.6"
  }
 },
 "nbformat": 4,
 "nbformat_minor": 4
}
